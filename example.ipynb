{
 "cells": [
  {
   "cell_type": "code",
   "execution_count": 1,
   "metadata": {},
   "outputs": [],
   "source": [
    "import json\n",
    "from huggingface_hub import login\n",
    "\n",
    "with open('config.json', 'r') as f:\n",
    "    config = json.load(f)\n",
    "\n",
    "login(token=config[\"HF_TOKEN\"])"
   ]
  },
  {
   "cell_type": "code",
   "execution_count": 2,
   "metadata": {},
   "outputs": [
    {
     "name": "stdout",
     "output_type": "stream",
     "text": [
      "File media/241118_1543.wav already exists \n",
      "Using existing file\n",
      "Output saved tooutput/241118_1543.csv\n",
      "Output saved tooutput/241118_1543.md\n",
      "func:'transcribe' args:[('media/241118_1543.mp3',), {}] took: 39.2254 sec\n"
     ]
    }
   ],
   "source": [
    "from ghe_transcribe import transcribe\n",
    "\n",
    "result = transcribe(\"media/241118_1543.mp3\")"
   ]
  }
 ],
 "metadata": {
  "kernelspec": {
   "display_name": "venv3.12_ghe_transcribe",
   "language": "python",
   "name": "venv3.12_ghe_transcribe"
  },
  "language_info": {
   "codemirror_mode": {
    "name": "ipython",
    "version": 3
   },
   "file_extension": ".py",
   "mimetype": "text/x-python",
   "name": "python",
   "nbconvert_exporter": "python",
   "pygments_lexer": "ipython3",
   "version": "3.12.9"
  }
 },
 "nbformat": 4,
 "nbformat_minor": 2
}
