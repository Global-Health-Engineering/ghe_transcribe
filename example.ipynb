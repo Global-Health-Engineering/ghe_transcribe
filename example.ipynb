{
 "cells": [
  {
   "cell_type": "code",
   "execution_count": null,
   "metadata": {},
   "outputs": [
    {
     "name": "stderr",
     "output_type": "stream",
     "text": [
      "/Users/nmassari/ghe_local/venv3.12_ghe_transcribe/lib/python3.12/site-packages/torchaudio/_backend/soundfile_backend.py:71: UserWarning: The MPEG_LAYER_III subtype is unknown to TorchAudio. As a result, the bits_per_sample attribute will be set to 0. If you are seeing this warning, please report by opening an issue on github (after checking for existing/closed ones). You may otherwise ignore this warning.\n",
      "  warnings.warn(\n",
      "/Users/nmassari/ghe_local/venv3.12_ghe_transcribe/lib/python3.12/site-packages/torchaudio/_backend/soundfile_backend.py:71: UserWarning: The MPEG_LAYER_III subtype is unknown to TorchAudio. As a result, the bits_per_sample attribute will be set to 0. If you are seeing this warning, please report by opening an issue on github (after checking for existing/closed ones). You may otherwise ignore this warning.\n",
      "  warnings.warn(\n",
      "/Users/nmassari/ghe_local/venv3.12_ghe_transcribe/lib/python3.12/site-packages/torchaudio/_backend/soundfile_backend.py:71: UserWarning: The MPEG_LAYER_III subtype is unknown to TorchAudio. As a result, the bits_per_sample attribute will be set to 0. If you are seeing this warning, please report by opening an issue on github (after checking for existing/closed ones). You may otherwise ignore this warning.\n",
      "  warnings.warn(\n",
      "/Users/nmassari/ghe_local/venv3.12_ghe_transcribe/lib/python3.12/site-packages/torchaudio/_backend/soundfile_backend.py:71: UserWarning: The MPEG_LAYER_III subtype is unknown to TorchAudio. As a result, the bits_per_sample attribute will be set to 0. If you are seeing this warning, please report by opening an issue on github (after checking for existing/closed ones). You may otherwise ignore this warning.\n",
      "  warnings.warn(\n"
     ]
    },
    {
     "name": "stdout",
     "output_type": "stream",
     "text": [
      "Output saved tooutput/testing_audio_01.csv\n",
      "Output saved tooutput/testing_audio_01.md\n",
      "Detected language 'en' with probability 0.999821\n",
      "func:'transcribe' args:[('media/testing_audio_01.mp3',), {'device': 'mps', 'whisper_model': 'large-v3-turbo', 'device_index': 0, 'compute_type': 'float32', 'cpu_threads': None, 'beam_size': 5, 'temperature': 0.0, 'word_timestamps': False, 'vad_filter': False, 'vad_parameters': {'min_silence_duration_ms': 2000}, 'pyannote_model': 'pyannote/speaker-diarization-3.1', 'num_speakers': 2, 'min_speakers': None, 'max_speakers': None, 'save_output': True, 'info': True}] took: 33.2560 sec\n"
     ]
    }
   ],
   "source": [
    "import json\n",
    "from huggingface_hub import login\n",
    "from ghe_transcribe import transcribe\n",
    "\n",
    "with open('config.json', 'r') as f:\n",
    "    config = json.load(f)\n",
    "\n",
    "login(token=config[\"HF_TOKEN\"])\n",
    "\n",
    "result = transcribe(\"media/testing_audio_01.mp3\", \n",
    "                    device=\"mps\",\n",
    "                    whisper_model='large-v3-turbo', \n",
    "                    device_index = 0,\n",
    "                    compute_type = 'float32', \n",
    "                    cpu_threads = None,\n",
    "                    beam_size = 5,\n",
    "                    temperature = 0.0,\n",
    "                    word_timestamps = False,\n",
    "                    vad_filter = False,\n",
    "                    vad_parameters = dict(min_silence_duration_ms=2000),\n",
    "                    pyannote_model = 'pyannote/speaker-diarization-3.1',\n",
    "                    num_speakers = 2,\n",
    "                    min_speakers = None,\n",
    "                    max_speakers = None,\n",
    "                    save_output=True,\n",
    "                    info=True)"
   ]
  }
 ],
 "metadata": {
  "kernelspec": {
   "display_name": "venv3.12_ghe_transcribe",
   "language": "python",
   "name": "venv3.12_ghe_transcribe"
  },
  "language_info": {
   "codemirror_mode": {
    "name": "ipython",
    "version": 3
   },
   "file_extension": ".py",
   "mimetype": "text/x-python",
   "name": "python",
   "nbconvert_exporter": "python",
   "pygments_lexer": "ipython3",
   "version": "3.12.9"
  }
 },
 "nbformat": 4,
 "nbformat_minor": 2
}
