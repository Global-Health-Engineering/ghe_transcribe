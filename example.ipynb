{
 "cells": [
  {
   "cell_type": "code",
   "execution_count": 1,
   "metadata": {},
   "outputs": [
    {
     "name": "stderr",
     "output_type": "stream",
     "text": [
      "/Users/nmassari/ghe_local/venv3.12_ghe_transcribe/lib/python3.12/site-packages/tqdm/auto.py:21: TqdmWarning: IProgress not found. Please update jupyter and ipywidgets. See https://ipywidgets.readthedocs.io/en/stable/user_install.html\n",
      "  from .autonotebook import tqdm as notebook_tqdm\n"
     ]
    }
   ],
   "source": [
    "import json\n",
    "from huggingface_hub import login\n",
    "\n",
    "with open('config.json', 'r') as f:\n",
    "    config = json.load(f)\n",
    "\n",
    "login(token=config[\"HF_TOKEN\"])"
   ]
  },
  {
   "cell_type": "code",
   "execution_count": 2,
   "metadata": {},
   "outputs": [
    {
     "name": "stdout",
     "output_type": "stream",
     "text": [
      "File example/241118_1543.wav already exists \n",
      "Using existing file\n",
      "Detected language 'en' with probability 1.000000\n"
     ]
    }
   ],
   "source": [
    "from ghe_transcribe import transcribe\n",
    "\n",
    "result = transcribe(\"example/241118_1543.mp3\", \"example/example.csv\")"
   ]
  },
  {
   "cell_type": "code",
   "execution_count": 3,
   "metadata": {},
   "outputs": [],
   "source": [
    "def to_csv(result, semicolumn=False):\n",
    "    csv = []\n",
    "    start_line = f'start;end;speaker;sentence' if semicolumn else 'start,end,speaker,sentence'\n",
    "    csv.append(start_line)\n",
    "    if semicolumn:\n",
    "        for seg, spk, sentence in result:\n",
    "            line = f'{seg.start:.2f};{seg.end:.2f};{spk};{sentence}'\n",
    "            csv.append(line.strip())\n",
    "    else:\n",
    "        # Convert all ',' in sentence to ';'\n",
    "        for seg, spk, sentence in result:\n",
    "            sentence = sentence.replace(',', ';')\n",
    "            line = f'{seg.start:.2f},{seg.end:.2f},{spk},{sentence}'\n",
    "            csv.append(line.strip())\n",
    "    return csv\n",
    "\n",
    "csv = to_csv(result)\n",
    "with open('example/example.csv', 'w') as f:\n",
    "    f.write('\\n'.join(csv))"
   ]
  }
 ],
 "metadata": {
  "kernelspec": {
   "display_name": "venv3.12_ghe_transcribe",
   "language": "python",
   "name": "venv3.12_ghe_transcribe"
  },
  "language_info": {
   "codemirror_mode": {
    "name": "ipython",
    "version": 3
   },
   "file_extension": ".py",
   "mimetype": "text/x-python",
   "name": "python",
   "nbconvert_exporter": "python",
   "pygments_lexer": "ipython3",
   "version": "3.12.9"
  }
 },
 "nbformat": 4,
 "nbformat_minor": 2
}
