{
 "cells": [
  {
   "cell_type": "code",
   "execution_count": 2,
   "metadata": {},
   "outputs": [
    {
     "name": "stderr",
     "output_type": "stream",
     "text": [
      "ffmpeg version 7.1.1 Copyright (c) 2000-2025 the FFmpeg developers\n",
      "  built with Apple clang version 16.0.0 (clang-1600.0.26.6)\n",
      "  configuration: --prefix=/opt/homebrew/Cellar/ffmpeg/7.1.1_1 --enable-shared --enable-pthreads --enable-version3 --cc=clang --host-cflags= --host-ldflags='-Wl,-ld_classic' --enable-ffplay --enable-gnutls --enable-gpl --enable-libaom --enable-libaribb24 --enable-libbluray --enable-libdav1d --enable-libharfbuzz --enable-libjxl --enable-libmp3lame --enable-libopus --enable-librav1e --enable-librist --enable-librubberband --enable-libsnappy --enable-libsrt --enable-libssh --enable-libsvtav1 --enable-libtesseract --enable-libtheora --enable-libvidstab --enable-libvmaf --enable-libvorbis --enable-libvpx --enable-libwebp --enable-libx264 --enable-libx265 --enable-libxml2 --enable-libxvid --enable-lzma --enable-libfontconfig --enable-libfreetype --enable-frei0r --enable-libass --enable-libopencore-amrnb --enable-libopencore-amrwb --enable-libopenjpeg --enable-libspeex --enable-libsoxr --enable-libzmq --enable-libzimg --disable-libjack --disable-indev=jack --enable-videotoolbox --enable-audiotoolbox --enable-neon\n",
      "  libavutil      59. 39.100 / 59. 39.100\n",
      "  libavcodec     61. 19.101 / 61. 19.101\n",
      "  libavformat    61.  7.100 / 61.  7.100\n",
      "  libavdevice    61.  3.100 / 61.  3.100\n",
      "  libavfilter    10.  4.100 / 10.  4.100\n",
      "  libswscale      8.  3.100 /  8.  3.100\n",
      "  libswresample   5.  3.100 /  5.  3.100\n",
      "  libpostproc    58.  3.100 / 58.  3.100\n",
      "Input #0, mov,mp4,m4a,3gp,3g2,mj2, from 'media/testing_audio_02.m4a':\n",
      "  Metadata:\n",
      "    major_brand     : M4A \n",
      "    minor_version   : 0\n",
      "    compatible_brands: M4A isommp42\n",
      "    creation_time   : 2025-04-10T08:39:10.000000Z\n",
      "    voice-memo-uuid : 4EAC7B27-D83B-4557-8DE1-A23DB4136503\n",
      "    encoder         : com.apple.VoiceMemos (iPad Version 15.4 (Build 24E248))\n",
      "  Duration: 00:01:02.66, start: 0.000000, bitrate: 69 kb/s\n",
      "  Stream #0:0[0x1](und): Audio: aac (LC) (mp4a / 0x6134706D), 48000 Hz, mono, fltp, 64 kb/s (default)\n",
      "      Metadata:\n",
      "        creation_time   : 2025-04-10T08:39:10.000000Z\n",
      "        handler_name    : Core Media Audio\n",
      "        vendor_id       : [0][0][0][0]\n",
      "Stream mapping:\n",
      "  Stream #0:0 -> #0:0 (aac (native) -> pcm_s16le (native))\n",
      "Press [q] to stop, [?] for help\n",
      "Output #0, wav, to 'media/testing_audio_02.wav':\n",
      "  Metadata:\n",
      "    major_brand     : M4A \n",
      "    minor_version   : 0\n",
      "    compatible_brands: M4A isommp42\n",
      "    voice-memo-uuid : 4EAC7B27-D83B-4557-8DE1-A23DB4136503\n",
      "    ISFT            : Lavf61.7.100\n",
      "  Stream #0:0(und): Audio: pcm_s16le ([1][0][0][0] / 0x0001), 48000 Hz, mono, s16, 768 kb/s (default)\n",
      "      Metadata:\n",
      "        creation_time   : 2025-04-10T08:39:10.000000Z\n",
      "        handler_name    : Core Media Audio\n",
      "        vendor_id       : [0][0][0][0]\n",
      "        encoder         : Lavc61.19.101 pcm_s16le\n",
      "[out#0/wav @ 0x137e326a0] video:0KiB audio:5874KiB subtitle:0KiB other streams:0KiB global headers:0KiB muxing overhead: 0.001297%\n",
      "size=    5874KiB time=00:01:02.65 bitrate= 768.0kbits/s speed=2.41e+03x    \n"
     ]
    },
    {
     "name": "stdout",
     "output_type": "stream",
     "text": [
      "Conversion successful\n",
      "Output saved tooutput/testing_audio_02.csv\n",
      "Output saved tooutput/testing_audio_02.md\n",
      "func:'transcribe' args:[('media/testing_audio_02.m4a',), {'device': 'mps'}] took: 48.1938 sec\n"
     ]
    }
   ],
   "source": [
    "import json\n",
    "from huggingface_hub import login\n",
    "from ghe_transcribe import transcribe\n",
    "\n",
    "with open('config.json', 'r') as f:\n",
    "    config = json.load(f)\n",
    "\n",
    "login(token=config[\"HF_TOKEN\"])\n",
    "\n",
    "result = transcribe(\"media/testing_audio_02.m4a\", device=\"mps\")"
   ]
  }
 ],
 "metadata": {
  "kernelspec": {
   "display_name": "venv3.12_ghe_transcribe",
   "language": "python",
   "name": "python3"
  },
  "language_info": {
   "codemirror_mode": {
    "name": "ipython",
    "version": 3
   },
   "file_extension": ".py",
   "mimetype": "text/x-python",
   "name": "python",
   "nbconvert_exporter": "python",
   "pygments_lexer": "ipython3",
   "version": "3.12.9"
  }
 },
 "nbformat": 4,
 "nbformat_minor": 2
}
