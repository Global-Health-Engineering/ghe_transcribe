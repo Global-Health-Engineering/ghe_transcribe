{
 "cells": [
  {
   "cell_type": "code",
   "execution_count": 4,
   "metadata": {},
   "outputs": [],
   "source": [
    "import json\n",
    "from huggingface_hub import login\n",
    "\n",
    "with open('config.json', 'r') as f:\n",
    "    config = json.load(f)\n",
    "\n",
    "login(token=config[\"HF_TOKEN\"])"
   ]
  },
  {
   "cell_type": "code",
   "execution_count": 2,
   "metadata": {},
   "outputs": [
    {
     "name": "stdout",
     "output_type": "stream",
     "text": [
      "File 241118_1543.wav already exists \n",
      "Using existing file\n"
     ]
    },
    {
     "name": "stderr",
     "output_type": "stream",
     "text": [
      "INFO:speechbrain.utils.quirks:Applied quirks (see `speechbrain.utils.quirks`): [allow_tf32, disable_jit_profiling]\n",
      "INFO:speechbrain.utils.quirks:Excluded quirks specified by the `SB_DISABLE_QUIRKS` environment (comma-separated list): []\n"
     ]
    },
    {
     "name": "stdout",
     "output_type": "stream",
     "text": [
      "Detected language 'en' with probability 1.000000\n"
     ]
    }
   ],
   "source": [
    "from ghe_transcribe import transcribe\n",
    "\n",
    "result = transcribe(\"241118_1543.mp3\", \"example.csv\")"
   ]
  },
  {
   "cell_type": "code",
   "execution_count": 3,
   "metadata": {},
   "outputs": [
    {
     "name": "stdout",
     "output_type": "stream",
     "text": [
      "0.00;2.48;SPEAKER_00; So, welcome to this interview today.\n",
      "2.48;8.92;SPEAKER_00; I'm sitting here with Natalie, and we're going to have just a little interview with two questions.\n",
      "8.92;14.52;SPEAKER_00; My name is Lars, and I'm handing over to my interviewee to introduce herself.\n",
      "14.52;15.52;SPEAKER_01; Okay.\n",
      "15.52;16.52;SPEAKER_01; Thank you.\n",
      "16.52;17.52;SPEAKER_01; My name is Natalie.\n",
      "17.52;21.20;SPEAKER_01; I'm an employee at GAG, and we are testing this new device.\n",
      "21.20;24.56;SPEAKER_00; Okay, thank you.\n",
      "24.56;29.24;SPEAKER_00; My first question to you is, when is your next field trip?\n",
      "29.24;31.64;SPEAKER_01; That is a good question, Lars.\n",
      "31.64;32.64;SPEAKER_01; I'm not sure.\n",
      "32.64;34.28;SPEAKER_01; We're hoping for May.\n",
      "34.28;37.56;SPEAKER_00; Okay, you're hoping for May.\n",
      "37.56;39.02;SPEAKER_00; When was your last field trip?\n",
      "39.02;41.02;SPEAKER_01; I last went in July.\n",
      "41.02;43.32;SPEAKER_00; Okay, thank you very much for the interview.\n"
     ]
    }
   ],
   "source": [
    "for seg, spk, sentence in result:\n",
    "    print(f'{seg.start:.2f};{seg.end:.2f};{spk};{sentence}')"
   ]
  }
 ],
 "metadata": {
  "kernelspec": {
   "display_name": "venv_3.12_transcribe",
   "language": "python",
   "name": "venv_3.12_transcribe"
  },
  "language_info": {
   "codemirror_mode": {
    "name": "ipython",
    "version": 3
   },
   "file_extension": ".py",
   "mimetype": "text/x-python",
   "name": "python",
   "nbconvert_exporter": "python",
   "pygments_lexer": "ipython3",
   "version": "3.12.9"
  }
 },
 "nbformat": 4,
 "nbformat_minor": 2
}
