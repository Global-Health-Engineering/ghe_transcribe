{
 "cells": [
  {
   "cell_type": "code",
   "execution_count": 1,
   "metadata": {},
   "outputs": [
    {
     "name": "stdout",
     "output_type": "stream",
     "text": [
      "Using device: mps\n",
      "Output saved to output/testing_audio_01_snippet.csv\n",
      "Output saved to output/testing_audio_01_snippet.md\n",
      "Detected language en with probability 0.9984050393104553\n",
      "func:'transcribe' args:[('media/testing_audio_01.wav',), {'snip': 5, 'num_speakers': 1}] took: 13.7408 sec\n"
     ]
    }
   ],
   "source": [
    "import json\n",
    "\n",
    "from huggingface_hub import login\n",
    "\n",
    "from ghe_transcribe.core import transcribe\n",
    "\n",
    "with open(\"config.json\", \"r\") as f:\n",
    "    config = json.load(f)\n",
    "\n",
    "login(token=config[\"HF_TOKEN\"])\n",
    "\n",
    "result = transcribe(\"media/testing_audio_01.wav\", snip=5, num_speakers=1)\n"
   ]
  }
 ],
 "metadata": {
  "kernelspec": {
   "display_name": "venv3.12_ghe_transcribe",
   "language": "python",
   "name": "venv3.12_ghe_transcribe"
  },
  "language_info": {
   "codemirror_mode": {
    "name": "ipython",
    "version": 3
   },
   "file_extension": ".py",
   "mimetype": "text/x-python",
   "name": "python",
   "nbconvert_exporter": "python",
   "pygments_lexer": "ipython3",
   "version": "3.12.9"
  }
 },
 "nbformat": 4,
 "nbformat_minor": 2
}
