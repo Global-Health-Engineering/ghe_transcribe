{
 "cells": [
  {
   "cell_type": "code",
   "execution_count": null,
   "id": "d03307d4",
   "metadata": {},
   "outputs": [
    {
     "data": {
      "application/vnd.jupyter.widget-view+json": {
       "model_id": "d7cccdb1a0d9420e82d361bd026e42bb",
       "version_major": 2,
       "version_minor": 0
      },
      "text/plain": [
       "VBox(children=(FileUpload(value=(), accept='.wav,.mp3,.flac,.ogg', description='Upload Audio', layout=Layout(m…"
      ]
     },
     "metadata": {},
     "output_type": "display_data"
    },
    {
     "data": {
      "application/vnd.jupyter.widget-view+json": {
       "model_id": "9b2f5025fcd343ca9ae403fccd9d703a",
       "version_major": 2,
       "version_minor": 0
      },
      "text/plain": [
       "VBox(children=(IntText(value=1, description='Min Speakers:', layout=Layout(margin='5px 0', width='90%')), IntT…"
      ]
     },
     "metadata": {},
     "output_type": "display_data"
    },
    {
     "data": {
      "application/vnd.jupyter.widget-view+json": {
       "model_id": "de1dab0d1c544b81a4ff94200965575e",
       "version_major": 2,
       "version_minor": 0
      },
      "text/plain": [
       "VBox(children=(Button(description='Run Transcription', layout=Layout(margin='5px 0', width='90%'), style=Butto…"
      ]
     },
     "metadata": {},
     "output_type": "display_data"
    }
   ],
   "source": [
    "from ghe_transcribe.app import execute\n",
    "execute()"
   ]
  },
  {
   "cell_type": "code",
   "execution_count": null,
   "id": "1ee3b707-9bdd-47cb-ab58-f2403b045fed",
   "metadata": {},
   "outputs": [],
   "source": []
  }
 ],
 "metadata": {
  "kernelspec": {
   "display_name": "venv_ghe_transcribe",
   "language": "python",
   "name": "venv_ghe_transcribe"
  },
  "language_info": {
   "codemirror_mode": {
    "name": "ipython",
    "version": 3
   },
   "file_extension": ".py",
   "mimetype": "text/x-python",
   "name": "python",
   "nbconvert_exporter": "python",
   "pygments_lexer": "ipython3",
   "version": "3.13.5"
  }
 },
 "nbformat": 4,
 "nbformat_minor": 5
}
