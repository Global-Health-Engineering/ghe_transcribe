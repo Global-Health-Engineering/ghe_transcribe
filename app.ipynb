{
 "cells": [
  {
   "cell_type": "code",
   "execution_count": 2,
   "id": "d03307d4",
   "metadata": {},
   "outputs": [
    {
     "data": {
      "application/vnd.jupyter.widget-view+json": {
       "model_id": "d0db5580b96a4916934ce3ba6157569a",
       "version_major": 2,
       "version_minor": 0
      },
      "text/plain": [
       "VBox(children=(FileUpload(value=(), accept='.wav,.mp3,.flac,.ogg', description='Upload Audio', layout=Layout(m…"
      ]
     },
     "metadata": {},
     "output_type": "display_data"
    },
    {
     "data": {
      "application/vnd.jupyter.widget-view+json": {
       "model_id": "1fe59065c59f4cef8b885b18c2203adf",
       "version_major": 2,
       "version_minor": 0
      },
      "text/plain": [
       "VBox(children=(IntText(value=1, description='Min Speakers:', layout=Layout(margin='5px 0', width='90%')), IntT…"
      ]
     },
     "metadata": {},
     "output_type": "display_data"
    },
    {
     "data": {
      "application/vnd.jupyter.widget-view+json": {
       "model_id": "db218fcadf754986afa9b30cb3d0793d",
       "version_major": 2,
       "version_minor": 0
      },
      "text/plain": [
       "VBox(children=(Button(description='Run Transcription', layout=Layout(margin='5px 0', width='90%'), style=Butto…"
      ]
     },
     "metadata": {},
     "output_type": "display_data"
    }
   ],
   "source": [
    "import sys\n",
    "import subprocess\n",
    "\n",
    "try:\n",
    "  # Try to import the module\n",
    "  from ghe_transcribe.app import execute\n",
    "except ImportError:\n",
    "  print(\"Module not found, installing...\")\n",
    "  # Install the package in development mode\n",
    "  subprocess.check_call([sys.executable, \"-m\", \"pip\", \"install\", \"-e\", \".\"])\n",
    "\n",
    "  # Try importing again after installation\n",
    "  try:\n",
    "      from ghe_transcribe.app import execute\n",
    "      print(\"Installation successful!\")\n",
    "  except ImportError:\n",
    "      print(\"Installation failed or kernel restart needed\")\n",
    "      print(\"Please restart the kernel and try again\")\n",
    "      sys.exit(1)\n",
    "\n",
    "# Run the app\n",
    "execute()"
   ]
  },
  {
   "cell_type": "code",
   "execution_count": null,
   "id": "1ee3b707-9bdd-47cb-ab58-f2403b045fed",
   "metadata": {},
   "outputs": [],
   "source": []
  }
 ],
 "metadata": {
  "kernelspec": {
   "display_name": "venv_ghe_transcribe",
   "language": "python",
   "name": "venv_ghe_transcribe"
  },
  "language_info": {
   "codemirror_mode": {
    "name": "ipython",
    "version": 3
   },
   "file_extension": ".py",
   "mimetype": "text/x-python",
   "name": "python",
   "nbconvert_exporter": "python",
   "pygments_lexer": "ipython3",
   "version": "3.11.12"
  }
 },
 "nbformat": 4,
 "nbformat_minor": 5
}
